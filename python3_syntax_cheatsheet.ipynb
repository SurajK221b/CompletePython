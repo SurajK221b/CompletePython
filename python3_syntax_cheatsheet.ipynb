{
 "cells": [
  {
   "cell_type": "markdown",
   "id": "8f0d31c8",
   "metadata": {},
   "source": [
    "# 📘 Python 3 Syntax Cheat Sheet with Examples"
   ]
  },
  {
   "cell_type": "markdown",
   "id": "2da91adc",
   "metadata": {},
   "source": [
    "## ✅ 1. Comments"
   ]
  },
  {
   "cell_type": "code",
   "execution_count": 14,
   "id": "5fa8b337",
   "metadata": {},
   "outputs": [
    {
     "data": {
      "text/plain": [
       "'\\nMulti-line comment\\nor docstring\\n'"
      ]
     },
     "execution_count": 14,
     "metadata": {},
     "output_type": "execute_result"
    }
   ],
   "source": [
    "# Single-line comment\n",
    "\n",
    "\"\"\"\n",
    "Multi-line comment\n",
    "or docstring\n",
    "\"\"\""
   ]
  },
  {
   "cell_type": "markdown",
   "id": "87218adb",
   "metadata": {},
   "source": [
    "## ✅ 2. Variables and Data Types"
   ]
  },
  {
   "cell_type": "code",
   "execution_count": 15,
   "id": "6f6bdd85",
   "metadata": {},
   "outputs": [],
   "source": [
    "name = \"Alice\"      # str\n",
    "age = 30            # int\n",
    "height = 5.7        # float\n",
    "is_active = True    # bool\n",
    "hobbies = [\"read\", \"code\"]  # list"
   ]
  },
  {
   "cell_type": "markdown",
   "id": "becbc903",
   "metadata": {},
   "source": [
    "## ✅ 3. Data Types and Structures\n",
    "\n",
    "### Primitive Types"
   ]
  },
  {
   "cell_type": "code",
   "execution_count": 16,
   "id": "38c68e49",
   "metadata": {},
   "outputs": [],
   "source": [
    "x = 10              # int\n",
    "pi = 3.14           # float\n",
    "flag = True         # bool\n",
    "text = \"Python\"     # str"
   ]
  },
  {
   "cell_type": "markdown",
   "id": "15f1470b",
   "metadata": {},
   "source": [
    "### Collection Types"
   ]
  },
  {
   "cell_type": "code",
   "execution_count": 17,
   "id": "ad8bf970",
   "metadata": {},
   "outputs": [],
   "source": [
    "my_list = [1, 2, 3]                # list\n",
    "my_tuple = (1, 2, 3)              # tuple\n",
    "my_set = {1, 2, 3}                # set\n",
    "my_dict = {\"name\": \"Alice\"}      # dict"
   ]
  },
  {
   "cell_type": "markdown",
   "id": "48cf8a06",
   "metadata": {},
   "source": [
    "## ✅ 4. Type Casting"
   ]
  },
  {
   "cell_type": "code",
   "execution_count": 18,
   "id": "c2762031",
   "metadata": {},
   "outputs": [
    {
     "data": {
      "text/plain": [
       "True"
      ]
     },
     "execution_count": 18,
     "metadata": {},
     "output_type": "execute_result"
    }
   ],
   "source": [
    "int(\"5\")       # 5\n",
    "float(\"3.14\")  # 3.14\n",
    "str(100)       # \"100\"\n",
    "bool(1)        # True"
   ]
  },
  {
   "cell_type": "markdown",
   "id": "73a4dc78",
   "metadata": {},
   "source": [
    "## ✅ 5. Operators\n",
    "\n",
    "### Arithmetic Operators"
   ]
  },
  {
   "cell_type": "code",
   "execution_count": 19,
   "id": "0efff7c7",
   "metadata": {},
   "outputs": [
    {
     "data": {
      "text/plain": [
       "2"
      ]
     },
     "execution_count": 19,
     "metadata": {},
     "output_type": "execute_result"
    }
   ],
   "source": [
    "a = 10\n",
    "b = 5\n",
    "a + b\n",
    "a - b\n",
    "a * b\n",
    "a / b\n",
    "a % b\n",
    "a ** b  # exponent\n",
    "a // b  # floor division"
   ]
  },
  {
   "cell_type": "markdown",
   "id": "ccf4e2a7",
   "metadata": {},
   "source": [
    "### Comparison Operators"
   ]
  },
  {
   "cell_type": "code",
   "execution_count": 20,
   "id": "439bcf53",
   "metadata": {},
   "outputs": [
    {
     "data": {
      "text/plain": [
       "False"
      ]
     },
     "execution_count": 20,
     "metadata": {},
     "output_type": "execute_result"
    }
   ],
   "source": [
    "a == b\n",
    "a != b\n",
    "a > b\n",
    "a < b\n",
    "a >= b\n",
    "a <= b"
   ]
  },
  {
   "cell_type": "markdown",
   "id": "defe7729",
   "metadata": {},
   "source": [
    "### Logical Operators"
   ]
  },
  {
   "cell_type": "code",
   "execution_count": 21,
   "id": "619e7d53",
   "metadata": {},
   "outputs": [
    {
     "data": {
      "text/plain": [
       "False"
      ]
     },
     "execution_count": 21,
     "metadata": {},
     "output_type": "execute_result"
    }
   ],
   "source": [
    "a and b\n",
    "a or b\n",
    "not a"
   ]
  },
  {
   "cell_type": "markdown",
   "id": "6770362a",
   "metadata": {},
   "source": [
    "### Membership / Identity"
   ]
  },
  {
   "cell_type": "code",
   "execution_count": 22,
   "id": "240f4162",
   "metadata": {},
   "outputs": [
    {
     "data": {
      "text/plain": [
       "False"
      ]
     },
     "execution_count": 22,
     "metadata": {},
     "output_type": "execute_result"
    }
   ],
   "source": [
    "\"x\" in \"text\"\n",
    "a is b"
   ]
  },
  {
   "cell_type": "markdown",
   "id": "3d2ab228",
   "metadata": {},
   "source": [
    "## ✅ 6. Conditional Statements"
   ]
  },
  {
   "cell_type": "code",
   "execution_count": null,
   "id": "9d4b423e",
   "metadata": {},
   "outputs": [
    {
     "name": "stdout",
     "output_type": "stream",
     "text": [
      "Adult\n"
     ]
    }
   ],
   "source": [
    "if condition:\n",
    "    pass\n",
    "elif other_condition:\n",
    "    pass\n",
    "else:\n",
    "    pass"
   ]
  }
 ],
 "metadata": {
  "kernelspec": {
   "display_name": "Python 3",
   "language": "python",
   "name": "python3"
  },
  "language_info": {
   "codemirror_mode": {
    "name": "ipython",
    "version": 3
   },
   "file_extension": ".py",
   "mimetype": "text/x-python",
   "name": "python",
   "nbconvert_exporter": "python",
   "pygments_lexer": "ipython3",
   "version": "3.12.11"
  }
 },
 "nbformat": 4,
 "nbformat_minor": 5
}
