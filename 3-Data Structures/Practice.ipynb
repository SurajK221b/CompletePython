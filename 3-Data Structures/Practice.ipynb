{
 "cells": [
  {
   "cell_type": "code",
   "execution_count": 2,
   "id": "a8f83c70",
   "metadata": {},
   "outputs": [
    {
     "name": "stdout",
     "output_type": "stream",
     "text": [
      "10\n"
     ]
    }
   ],
   "source": [
    "l = [None] * 10\n",
    "print(len(l))"
   ]
  },
  {
   "cell_type": "code",
   "execution_count": 20,
   "id": "7a062e22",
   "metadata": {},
   "outputs": [
    {
     "name": "stdout",
     "output_type": "stream",
     "text": [
      "ara\n"
     ]
    }
   ],
   "source": [
    "list1 = ['AB', 'ABC', 'ara']\n",
    "print(max(list1))"
   ]
  },
  {
   "cell_type": "code",
   "execution_count": 21,
   "id": "2ec554e6",
   "metadata": {},
   "outputs": [
    {
     "name": "stdout",
     "output_type": "stream",
     "text": [
      "[]\n"
     ]
    }
   ],
   "source": [
    "sampleList = [10, 20, 30, 40]\n",
    "del sampleList[0:6]\n",
    "print(sampleList)"
   ]
  },
  {
   "cell_type": "code",
   "execution_count": 5,
   "id": "7b2f663a",
   "metadata": {},
   "outputs": [
    {
     "name": "stdout",
     "output_type": "stream",
     "text": [
      "[10, 20, 30, 40]\n",
      "[10, 20, 40]\n"
     ]
    }
   ],
   "source": [
    "sampleList = [10, 20, 30, 40, 50]\n",
    "sampleList.pop()\n",
    "print(sampleList)\n",
    "\n",
    "sampleList.pop(2)\n",
    "print(sampleList)"
   ]
  },
  {
   "cell_type": "code",
   "execution_count": 22,
   "id": "d044fcf9",
   "metadata": {},
   "outputs": [
    {
     "name": "stdout",
     "output_type": "stream",
     "text": [
      "Hello-Python\n"
     ]
    }
   ],
   "source": [
    "my_list = [\"Hello\", \"Python\"]\n",
    "print(\"-\".join(my_list))"
   ]
  },
  {
   "cell_type": "code",
   "execution_count": 23,
   "id": "5162fdf4",
   "metadata": {},
   "outputs": [
    {
     "name": "stdout",
     "output_type": "stream",
     "text": [
      "[4, 20, 24, 28]\n"
     ]
    }
   ],
   "source": [
    "aList = [4, 8, 12, 16]\n",
    "aList[1:4] = [20, 24, 28]\n",
    "print(aList)"
   ]
  },
  {
   "cell_type": "code",
   "execution_count": 26,
   "id": "2ee1c91d",
   "metadata": {},
   "outputs": [
    {
     "name": "stdout",
     "output_type": "stream",
     "text": [
      "[30, 40, 50]\n",
      "[10, 20, 30, 40]\n",
      "[40, 50, 60, 70, 80]\n"
     ]
    }
   ],
   "source": [
    "aList = [10, 20, 30, 40, 50, 60, 70, 80]\n",
    "print(aList[2:5])\n",
    "print(aList[:4])\n",
    "print(aList[3:])"
   ]
  },
  {
   "cell_type": "code",
   "execution_count": 27,
   "id": "12271d8f",
   "metadata": {},
   "outputs": [
    {
     "name": "stdout",
     "output_type": "stream",
     "text": [
      "['Hello Dear', 'Hello Bye', 'Good Dear', 'Good Bye']\n"
     ]
    }
   ],
   "source": [
    "resList = [x+y for x in ['Hello ', 'Good '] for y in ['Dear', 'Bye']]\n",
    "print(resList)"
   ]
  },
  {
   "cell_type": "code",
   "execution_count": 28,
   "id": "390967cb",
   "metadata": {},
   "outputs": [
    {
     "name": "stdout",
     "output_type": "stream",
     "text": [
      "Y\n",
      "16\n"
     ]
    }
   ],
   "source": [
    "aList = [\"PYnative\", [4, 8, 12, 16]]\n",
    "print(aList[0][1])    \n",
    "print(aList[1][3])"
   ]
  }
 ],
 "metadata": {
  "kernelspec": {
   "display_name": "Python 3",
   "language": "python",
   "name": "python3"
  },
  "language_info": {
   "codemirror_mode": {
    "name": "ipython",
    "version": 3
   },
   "file_extension": ".py",
   "mimetype": "text/x-python",
   "name": "python",
   "nbconvert_exporter": "python",
   "pygments_lexer": "ipython3",
   "version": "3.12.11"
  }
 },
 "nbformat": 4,
 "nbformat_minor": 5
}
