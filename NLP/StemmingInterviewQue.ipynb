{
 "cells": [
  {
   "cell_type": "markdown",
   "id": "aad35280",
   "metadata": {},
   "source": [
    "Stemming in NLP – Interview Theory Sheet\n",
    "\n",
    "#### 1. What is stemming? What is stemming?\n",
    "### Answer:\n",
    "Stemming is the process of reducing inflected or derived words to their root/base form, usually by stripping suffixes. It is a type of text normalization primarily used to improve information retrieval and reduce dimensionality in NLP tasks.Stemming is the process of reducing inflected or derived words to their root/base form, usually by stripping suffixes. It is a type of text normalization primarily used to improve information retrieval and reduce dimensionality in NLP tasks.\n",
    "\n",
    "#### 2. Why is stemming important? Why is stemming important?\n",
    "### Answer:\n",
    "Stemming helps group similar terms for better generalization. For instance:Stemming helps group similar terms for better generalization. For instance:\n",
    "\n",
    "\"connect\", \"connected\", \"connection\" → \"connect\"  \n",
    "This improves the performance of search engines, classifiers, and topic models by treating variants of a word as one.This improves the performance of search engines, classifiers, and topic models by treating variants of a word as one.\n",
    "\n",
    "#### 3. Common Stemming Algorithms in NLTK\n",
    "| Stemmer           | Description                                 | Language Support | Aggressiveness |port | Aggressiveness |\n",
    "|-------------------|---------------------------------------------|------------------|---------------|--------------|---------------|\n",
    "| PorterStemmer     | Rule-based suffix stripper (Porter, 1980)   | English          | Medium        |Medium        |\n",
    "| LancasterStemmer  | More aggressive, faster but less accurate   | English          | High          | English          | High          |\n",
    "| SnowballStemmer   | Newer, more accurate, multilingual support  | Multilingual     | Balanced      || SnowballStemmer   | Newer, more accurate, multilingual support  | Multilingual     | Balanced      |\n",
    "| RegexpStemmer     | Custom stemming using regex rules           | Customizable     | Custom        |Custom stemming using regex rules           | Customizable     | Custom        |\n",
    "\n",
    "### 🧾 Syntax and Examples🧾 Syntax and Examples\n",
    "\n"
   ]
  },
  {
   "cell_type": "code",
   "execution_count": 1,
   "id": "ff63bccd",
   "metadata": {},
   "outputs": [
    {
     "name": "stderr",
     "output_type": "stream",
     "text": [
      "[nltk_data] Downloading package punkt to C:\\Users\\Suraj\n",
      "[nltk_data]     Khodade\\AppData\\Roaming\\nltk_data...\n"
     ]
    },
    {
     "name": "stdout",
     "output_type": "stream",
     "text": [
      "connect\n",
      "connect\n",
      "connect\n",
      "connect\n",
      "connect\n",
      "connect\n",
      "nation\n"
     ]
    },
    {
     "name": "stderr",
     "output_type": "stream",
     "text": [
      "[nltk_data]   Package punkt is already up-to-date!\n"
     ]
    }
   ],
   "source": [
    "import nltk\n",
    "from nltk.stem import PorterStemmer, LancasterStemmer, SnowballStemmer\n",
    "nltk.download('punkt')  # Required for tokenization if needed\n",
    "\n",
    "## Example – PorterStemmer\n",
    "stemmer = PorterStemmer()\n",
    "print(stemmer.stem(\"connected\"))  # Output: connect\n",
    "print(stemmer.stem(\"connection\")) # Output: connect\n",
    "\n",
    "\n",
    "##  Example – LancasterStemmer\n",
    "stemmer = LancasterStemmer()\n",
    "print(stemmer.stem(\"connected\"))  # Output: connect\n",
    "print(stemmer.stem(\"connection\")) # Output: connect\n",
    "print(stemmer.stem(\"connections\"))# Output: connect\n",
    "\n",
    "## Example – SnowballStemmer (Multilingual)\n",
    "\n",
    "stemmer = SnowballStemmer(\"english\")\n",
    "print(stemmer.stem(\"connected\"))   # Output: connect\n",
    "print(stemmer.stem(\"nationality\")) # Output: nation\n"
   ]
  },
  {
   "cell_type": "markdown",
   "id": "9a6608a3",
   "metadata": {},
   "source": [
    "### Comparison Table\n",
    "\n",
    "| Feature              | **PorterStemmer**            | **LancasterStemmer**            | **SnowballStemmer**                  | **RegexpStemmer**                 |\n",
    "| -------------------- | ---------------------------- | ------------------------------- | ------------------------------------ | --------------------------------- |\n",
    "| **Language Support** | English                      | English                         | 15+ languages                        | Custom                            |\n",
    "| **Aggressiveness**   | Moderate                     | High                            | Balanced                             | Customizable                      |\n",
    "| **Accuracy**         | Good                         | Lower (over-stemming)           | Better than Porter                   | Depends on pattern                |\n",
    "| **Use Case**         | General text                 | Performance-sensitive           | Multilingual processing              | Domain-specific rules             |\n",
    "| **Syntax**           | `PorterStemmer().stem(word)` | `LancasterStemmer().stem(word)` | `SnowballStemmer(\"lang\").stem(word)` | `RegexpStemmer(regex).stem(word)` |\n"
   ]
  },
  {
   "cell_type": "markdown",
   "id": "320d5242",
   "metadata": {},
   "source": []
  },
  {
   "cell_type": "markdown",
   "id": "138651dc",
   "metadata": {},
   "source": [
    "### Stemming vs Lemmatization\n",
    "\n",
    "| Aspect          | **Stemming**            | **Lemmatization**                         |\n",
    "| --------------- | ----------------------- | ----------------------------------------- |\n",
    "| Output          | May not be a valid word | Produces valid dictionary word            |\n",
    "| Method          | Rule-based stripping    | Uses vocabulary and grammar (POS tagging) |\n",
    "| Speed           | Fast                    | Slower (needs linguistic resources)       |\n",
    "| Example         | `\"better\"` → `\"bett\"`   | `\"better\"` → `\"good\"`                     |\n",
    "| Library in NLTK | `PorterStemmer`, etc.   | `WordNetLemmatizer`                       |\n"
   ]
  },
  {
   "cell_type": "markdown",
   "id": "1a8976a3",
   "metadata": {},
   "source": [
    "#### Q1. When would you prefer stemming over lemmatization?\n",
    "### For performance-sensitive applications like search indexing, where speed is critical and exact root words are not essential.\n",
    "\n",
    "#### Q2. Which stemmer is best for aggressive stemming?\n",
    "### LancasterStemmer, but it may lead to over-stemming and reduce precision.\n",
    "\n",
    "#### Q3. What are the trade-offs in using stemming?\n",
    "### ✅ Pros:\n",
    "- Reduces vocabulary size  \n",
    "- Increases recall  \n",
    "- Faster normalization  \n",
    "\n",
    "### ❌ Cons:\n",
    "- May remove meaningful distinctions (e.g., \"universe\" → \"univers\")  \n",
    "- Produces non-dictionary forms  \n",
    "- Language-specific behavior  \n",
    "\n",
    "#### 🏁 Final Tips\n",
    "### Porter = standard for academic use  \n",
    "### Lancaster = aggressive and fast  \n",
    "### Snowball = accurate + multilingual  \n",
    "### Use stemming in IR, search, topic modeling  \n",
    "### Use lemmatization in NLP pipelines, language understanding tasks  \n"
   ]
  },
  {
   "cell_type": "markdown",
   "id": "b490582e",
   "metadata": {},
   "source": []
  }
 ],
 "metadata": {
  "kernelspec": {
   "display_name": "Python 3",
   "language": "python",
   "name": "python3"
  },
  "language_info": {
   "codemirror_mode": {
    "name": "ipython",
    "version": 3
   },
   "file_extension": ".py",
   "mimetype": "text/x-python",
   "name": "python",
   "nbconvert_exporter": "python",
   "pygments_lexer": "ipython3",
   "version": "3.12.11"
  }
 },
 "nbformat": 4,
 "nbformat_minor": 5
}
