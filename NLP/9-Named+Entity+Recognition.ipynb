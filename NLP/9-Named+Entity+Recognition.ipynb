{
    "cells": [
        {
            "cell_type": "markdown",
            "metadata": {},
            "source": [
                "#### Named Entity Recognition\n",
                "\n",
                "Named Entity Recognition (NER) is an NLP technique that detects and classifies named entities in text into predefined categories such as:Person names\n",
                "\n",
                "Organizations\n",
                "\n",
                "Locations\n",
                "\n",
                "Dates/Time\n",
                "\n",
                "Monetary values\n",
                "\n",
                "Percentages, etc.\n",
                "\n",
                "### Why is NER Important?\n",
                "\n",
                "| Benefit                        | Explanation                                                     |\n",
                "| ------------------------------ | --------------------------------------------------------------- |\n",
                "| ✅ Extracts real-world entities | Converts raw text into structured information                   |\n",
                "| ✅ Enables downstream tasks     | Useful in question answering, summarization, sentiment analysis |\n",
                "| ✅ Enhances search engines      | Enables semantic search and auto-tagging                        |\n",
                "| ✅ Enterprise use cases         | Resume parsing, legal document analysis, financial text mining  |\n",
                "\n",
                "\n",
                "#### NER with NLTK – Syntax & Examples\n",
                "\n",
                "#### Prerequisites\n",
                "import nltk\n",
                "nltk.download('punkt')\n",
                "nltk.download('averaged_perceptron_tagger')\n",
                "nltk.download('maxent_ne_chunker')\n",
                "nltk.download('words')\n",
                "\n",
                "#### Basic NER Pipeline in NLTK\n",
                "\n",
                "from nltk import word_tokenize, pos_tag, ne_chunk\n",
                "\n",
                "text = \"Barack Obama was born in Hawaii and became the President of the United States.\"\n",
                "\n",
                "#### Step 1: Tokenization\n",
                "tokens = word_tokenize(text)\n",
                "\n",
                "#### Step 2: POS Tagging\n",
                "pos_tags = pos_tag(tokens)\n",
                "\n",
                "#### Step 3: Named Entity Chunking\n",
                "named_entities = ne_chunk(pos_tags)\n",
                "\n",
                "print(named_entities)\n",
                "\n"
            ]
        },
        {
            "cell_type": "raw",
            "metadata": {},
            "source": [
                "sentence=\"The Eiffel Tower was built from 1887 to 1889 by French engineer Gustave Eiffel, whose company specialized in building metal frameworks and structures.\"\n",
                "\"\"\"\n",
                "Person Eg: Suraj C Khodade\n",
                "Place Or Location Eg: India\n",
                "Date Eg: September,24-09-1989\n",
                "Time  Eg: 4:30pm\n",
                "Money Eg: 1 million dollar\n",
                "Organization Eg: iNeuron Private Limited\n",
                "Percent Eg: 20%, twenty percent\n",
                "\"\"\""
            ]
        },
        {
            "cell_type": "code",
            "execution_count": 1,
            "metadata": {},
            "outputs": [],
            "source": [
                "sentence=\"The Eiffel Tower was built from 1887 to 1889 by Gustave Eiffel, whose company specialized in building metal frameworks and structures.\""
            ]
        },
        {
            "cell_type": "code",
            "execution_count": 2,
            "metadata": {},
            "outputs": [
                {
                    "name": "stderr",
                    "output_type": "stream",
                    "text": [
                        "[nltk_data] Downloading package punkt to C:\\Users\\Suraj\n",
                        "[nltk_data]     Khodade\\AppData\\Roaming\\nltk_data...\n",
                        "[nltk_data]   Package punkt is already up-to-date!\n"
                    ]
                },
                {
                    "data": {
                        "text/plain": [
                            "True"
                        ]
                    },
                    "execution_count": 2,
                    "metadata": {},
                    "output_type": "execute_result"
                }
            ],
            "source": [
                "import nltk\n",
                "from nltk.corpus import stopwords\n",
                "nltk.download('punkt')"
            ]
        },
        {
            "cell_type": "code",
            "execution_count": 3,
            "metadata": {},
            "outputs": [],
            "source": [
                "\n",
                "words=nltk.word_tokenize(sentence)"
            ]
        },
        {
            "cell_type": "code",
            "execution_count": 4,
            "metadata": {},
            "outputs": [],
            "source": [
                "tag_elements=nltk.pos_tag(words)"
            ]
        },
        {
            "cell_type": "code",
            "execution_count": 5,
            "metadata": {},
            "outputs": [
                {
                    "name": "stderr",
                    "output_type": "stream",
                    "text": [
                        "[nltk_data] Downloading package maxent_ne_chunker to C:\\Users\\Suraj\n",
                        "[nltk_data]     Khodade\\AppData\\Roaming\\nltk_data...\n",
                        "[nltk_data]   Package maxent_ne_chunker is already up-to-date!\n"
                    ]
                },
                {
                    "data": {
                        "text/plain": [
                            "True"
                        ]
                    },
                    "execution_count": 5,
                    "metadata": {},
                    "output_type": "execute_result"
                }
            ],
            "source": [
                "nltk.download('maxent_ne_chunker')"
            ]
        },
        {
            "cell_type": "code",
            "execution_count": 6,
            "metadata": {},
            "outputs": [
                {
                    "name": "stderr",
                    "output_type": "stream",
                    "text": [
                        "[nltk_data] Downloading package words to C:\\Users\\Suraj\n",
                        "[nltk_data]     Khodade\\AppData\\Roaming\\nltk_data...\n",
                        "[nltk_data]   Package words is already up-to-date!\n"
                    ]
                },
                {
                    "data": {
                        "text/plain": [
                            "True"
                        ]
                    },
                    "execution_count": 6,
                    "metadata": {},
                    "output_type": "execute_result"
                }
            ],
            "source": [
                "nltk.download('words')\n"
            ]
        },
        {
            "cell_type": "code",
            "execution_count": 7,
            "metadata": {},
            "outputs": [
                {
                    "name": "stderr",
                    "output_type": "stream",
                    "text": [
                        "[nltk_data] Downloading package maxent_ne_chunker_tab to\n",
                        "[nltk_data]     C:\\Users\\Suraj Khodade\\AppData\\Roaming\\nltk_data...\n",
                        "[nltk_data]   Package maxent_ne_chunker_tab is already up-to-date!\n"
                    ]
                }
            ],
            "source": [
                "nltk.download('maxent_ne_chunker_tab')\n",
                "nltk.ne_chunk(tag_elements).draw()"
            ]
        },
        {
            "cell_type": "markdown",
            "metadata": {},
            "source": []
        }
    ],
    "metadata": {
        "kernelspec": {
            "display_name": "Python 3",
            "language": "python",
            "name": "python3"
        },
        "language_info": {
            "codemirror_mode": {
                "name": "ipython",
                "version": 3
            },
            "file_extension": ".py",
            "mimetype": "text/x-python",
            "name": "python",
            "nbconvert_exporter": "python",
            "pygments_lexer": "ipython3",
            "version": "3.12.11"
        }
    },
    "nbformat": 4,
    "nbformat_minor": 4
}