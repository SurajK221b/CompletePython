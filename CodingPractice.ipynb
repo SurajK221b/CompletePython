{
 "cells": [
  {
   "cell_type": "markdown",
   "id": "d3428e88",
   "metadata": {},
   "source": [
    "## Python Coding Practice"
   ]
  },
  {
   "cell_type": "markdown",
   "id": "ddff4d30",
   "metadata": {},
   "source": [
    "### 1. Odd or Even Checker"
   ]
  },
  {
   "cell_type": "code",
   "execution_count": 21,
   "id": "71aca9ea",
   "metadata": {},
   "outputs": [
    {
     "name": "stdout",
     "output_type": "stream",
     "text": [
      "The number 5 is odd.\n",
      "Execution completed.\n"
     ]
    }
   ],
   "source": [
    "num = int(input(\"Enter first number: \"))\n",
    "\n",
    "try:\n",
    "    if num % 2 == 0:\n",
    "        print(f\"The number {num} is even.\")\n",
    "    else:\n",
    "        print(f\"The number {num} is odd.\")\n",
    "except Exception as e:\n",
    "    print(f\"An error occurred: {e}\")\n",
    "finally:\n",
    "    print(\"Execution completed.\")   "
   ]
  },
  {
   "cell_type": "markdown",
   "id": "38f71504",
   "metadata": {},
   "source": [
    "### 2. Prime Number Validator"
   ]
  },
  {
   "cell_type": "code",
   "execution_count": 24,
   "id": "baaf2365",
   "metadata": {},
   "outputs": [
    {
     "name": "stdout",
     "output_type": "stream",
     "text": [
      "Prime number check completed.\n",
      "6 is not a prime number.\n"
     ]
    }
   ],
   "source": [
    "num = int(input(\"Enter a number: \"))\n",
    "\n",
    "# if num < 1:\n",
    "#     print(\"Please enter a positive integer.\")\n",
    "# else:\n",
    "#     if num == 1:\n",
    "#         print(f\"{num} is not a prime number.\")\n",
    "#     else:\n",
    "#         is_prime = True\n",
    "#         for i in range(2, int(num**0.5) + 1):\n",
    "#             if num % i == 0:\n",
    "#                 is_prime = False\n",
    "#                 break\n",
    "#         if is_prime:\n",
    "#             print(f\"{num} is a prime number.\")\n",
    "#         else:\n",
    "#             print(f\"{num} is not a prime number.\")\n",
    "\n",
    "## function to check if a number is prime\n",
    "def check_prime(num):\n",
    "    try: \n",
    "        if num < 2:\n",
    "            return False\n",
    "        for i in range(2, int(num**0.5) + 1):\n",
    "            if num % i == 0:\n",
    "                return False\n",
    "        return True\n",
    "    except Exception as e:\n",
    "        print(f\"An error occurred: {e}\")\n",
    "        return False\n",
    "    finally:\n",
    "        print(\"Prime number check completed.\")\n",
    "\n",
    "## Call the function and print the result\n",
    "if check_prime(num):\n",
    "    print(f\"{num} is a prime number.\")\n",
    "else:\n",
    "    print(f\"{num} is not a prime number.\")"
   ]
  },
  {
   "cell_type": "markdown",
   "id": "3f7a2095",
   "metadata": {},
   "source": [
    "### 3. Fibonacci Series Generator"
   ]
  },
  {
   "cell_type": "code",
   "execution_count": 33,
   "id": "53d9436d",
   "metadata": {},
   "outputs": [
    {
     "name": "stdout",
     "output_type": "stream",
     "text": [
      "<class 'list'>\n",
      "The first 5 terms of the Fibonacci series are: [0, 1, 1, 2, 3]\n",
      "<class 'tuple'>\n",
      "<class 'tuple'>\n",
      "(0, 1, 1, 2, 3)\n"
     ]
    }
   ],
   "source": [
    "n = int(input(\"Enter the number of terms in the Fibonacci series: \"))\n",
    "\n",
    "def fibonacci_series(n):\n",
    "    try:\n",
    "        if n < 0:\n",
    "            raise ValueError(\"Number of terms must be a non-negative integer.\")\n",
    "        if n == 0:\n",
    "            return []\n",
    "        elif n == 1:\n",
    "            return [0]\n",
    "        elif n == 2:\n",
    "            return [0, 1]\n",
    "        else:\n",
    "            fib_series = [0, 1]\n",
    "\n",
    "            for i in range(2, n):\n",
    "                next_term = fib_series[i-1] + fib_series[i-2]\n",
    "                fib_series.append(next_term)    \n",
    "            return fib_series\n",
    "    except Exception as e:\n",
    "        print(f\"An error occurred: {e}\")\n",
    "        return []   \n",
    "    \n",
    "fib_series = fibonacci_series(n)\n",
    "\n",
    "print(type(fib_series))\n",
    "print(f\"The first {n} terms of the Fibonacci series are: {fib_series}\")\n",
    "\n",
    "lst = tuple()\n",
    "print(type(lst))\n",
    "lst = tuple(fib_series)\n",
    "print(type(lst))\n",
    "print(lst)"
   ]
  },
  {
   "cell_type": "markdown",
   "id": "5dab60b9",
   "metadata": {},
   "source": [
    "### 4. Calculator\n"
   ]
  },
  {
   "cell_type": "code",
   "execution_count": 34,
   "id": "9a2fec86",
   "metadata": {},
   "outputs": [
    {
     "name": "stdout",
     "output_type": "stream",
     "text": [
      "Operation completed.\n",
      "The result of adding 10 and 523 is: 533\n"
     ]
    }
   ],
   "source": [
    "def abc(a,b,operation):\n",
    "    try:\n",
    "        if operation == 'add':\n",
    "            return a + b\n",
    "        elif operation == 'subtract':\n",
    "            return a - b\n",
    "        elif operation == 'multiply':\n",
    "            return a * b\n",
    "        elif operation == 'divide':\n",
    "            if b == 0:\n",
    "                raise ValueError(\"Cannot divide by zero.\")\n",
    "            return a / b\n",
    "        else:\n",
    "            raise ValueError(\"Invalid operation. Please choose from 'add', 'subtract', 'multiply', or 'divide'.\")\n",
    "    except Exception as e:\n",
    "        print(f\"An error occurred: {e}\")\n",
    "        return None\n",
    "    finally:\n",
    "        print(\"Operation completed.\")\n",
    "    \n",
    "a = int(input(\"Enter first number: \"))\n",
    "b = int(input(\"Enter second number: \"))\n",
    "operation = input(\"Enter operation (add, subtract, multiply, divide): \").strip().lower()\n",
    "\n",
    "result = abc(a, b, operation)\n",
    "if result is not None:\n",
    "    print(f\"The result of {operation}ing {a} and {b} is: {result}\")"
   ]
  },
  {
   "cell_type": "code",
   "execution_count": 36,
   "id": "9663726d",
   "metadata": {},
   "outputs": [
    {
     "name": "stdout",
     "output_type": "stream",
     "text": [
      "Operation completed.\n",
      "The result of adding 20 and 52 is: 72\n"
     ]
    }
   ],
   "source": [
    "calculator = lambda a, b, operation: abc(a, b, operation)\n",
    "a = int(input(\"Enter first number: \"))\n",
    "b = int(input(\"Enter second number: \"))\n",
    "operation = input(\"Enter operation (add, subtract, multiply, divide): \").strip().lower()\n",
    "result = calculator(a, b, operation)\n",
    "if result is not None:\n",
    "    print(f\"The result of {operation}ing {a} and {b} is: {result}\")"
   ]
  },
  {
   "cell_type": "markdown",
   "id": "4963e7e5",
   "metadata": {},
   "source": [
    "### 5. Number guessing game"
   ]
  },
  {
   "cell_type": "code",
   "execution_count": 37,
   "id": "27ca0f25",
   "metadata": {},
   "outputs": [
    {
     "name": "stdout",
     "output_type": "stream",
     "text": [
      "🎯 Welcome to the Number Guessing Game!\n",
      "I'm thinking of a number between 1 and 100.\n",
      "🔼 Too low. Try again.\n",
      "🔼 Too low. Try again.\n",
      "🔼 Too low. Try again.\n",
      "🔽 Too high. Try again.\n",
      "🔼 Too low. Try again.\n",
      "🔼 Too low. Try again.\n",
      "🔼 Too low. Try again.\n",
      "🔽 Too high. Try again.\n",
      "🔽 Too high. Try again.\n",
      "🔽 Too high. Try again.\n",
      "✅ Congratulations! You guessed it in 11 attempts.\n"
     ]
    }
   ],
   "source": [
    "import random\n",
    "\n",
    "def number_guessing_game():\n",
    "    print(\"🎯 Welcome to the Number Guessing Game!\")\n",
    "    print(\"I'm thinking of a number between 1 and 100.\")\n",
    "\n",
    "    # Generate a random number between 1 and 100\n",
    "    secret_number = random.randint(1, 100)\n",
    "    attempts = 0\n",
    "\n",
    "    while True:\n",
    "        try:\n",
    "            guess = int(input(\"Enter your guess: \"))\n",
    "            attempts += 1\n",
    "\n",
    "            if guess < 1 or guess > 100:\n",
    "                print(\"⚠️ Please enter a number between 1 and 100.\")\n",
    "            elif guess < secret_number:\n",
    "                print(\"🔼 Too low. Try again.\")\n",
    "            elif guess > secret_number:\n",
    "                print(\"🔽 Too high. Try again.\")\n",
    "            else:\n",
    "                print(f\"✅ Congratulations! You guessed it in {attempts} attempts.\")\n",
    "                break\n",
    "\n",
    "        except ValueError:\n",
    "            print(\"❌ Invalid input. Please enter a valid integer.\")\n",
    "\n",
    "if __name__ == \"__main__\":\n",
    "    number_guessing_game()\n"
   ]
  },
  {
   "cell_type": "markdown",
   "id": "dafd3bd4",
   "metadata": {},
   "source": [
    "### 6. Bank Account Management"
   ]
  },
  {
   "cell_type": "code",
   "execution_count": 75,
   "id": "4784dc22",
   "metadata": {},
   "outputs": [],
   "source": [
    "\n",
    "\n",
    "class BankAccount:\n",
    "    \"\"\"A simple bank account management system.\"\"\"\n",
    "    customers = []\n",
    "    def __init__ (self, account_number, account_holder, initial_balance=0):\n",
    "        self.account_number = account_number\n",
    "        self.account_holder = account_holder\n",
    "        self.balance = initial_balance\n",
    "\n",
    "    def credit(self, amount):\n",
    "        try:\n",
    "            if amount <= 0:\n",
    "                raise ValueError(\"Amount must be positive.\")\n",
    "            self.balance += amount\n",
    "            print(f\"✅ {amount} credited to account {self.account_number}. New balance: {self.balance}\")\n",
    "        except Exception as e:\n",
    "            print(f\"❌ Error: {e}\")\n",
    "        \n",
    "    def debit(self, amount):\n",
    "        try:\n",
    "            if amount <= 0:\n",
    "                raise ValueError(\"Amount must be positive.\")\n",
    "            if amount > self.balance:\n",
    "                raise ValueError(\"Insufficient balance.\")\n",
    "            self.balance -= amount\n",
    "            print(f\"✅ {amount} debited from account {self.account_number}. New balance: {self.balance}\")\n",
    "        except Exception as e:\n",
    "            print(f\"❌ Error: {e}\")\n",
    "\n",
    "    def balance_inquiry(self):\n",
    "        try:\n",
    "            print(f\"💰 Current balance for account {self.account_number}: {self.balance}\")\n",
    "        except Exception as e:\n",
    "            print(f\"❌ Error: {e}\")\n",
    "\n",
    "    def register(self):\n",
    "        try:\n",
    "            BankAccount.customers.append(self)\n",
    "            print(f\"📋 Account registered successfully for {self.account_holder} with account number {self.account_number}.\")\n",
    "        except Exception as e:\n",
    "            print(f\"❌ Error: {e}\")\n",
    "\n",
    "    def getallcustomer():\n",
    "        print(\"Below are the all customers:\")\n",
    "        for customer in BankAccount.customers:\n",
    "            print(f\"Account Number: {customer.account_number}, Account Holder: {customer.account_holder}, Balance: {customer.balance}\")\n",
    "\n",
    "    def delete_account(self):\n",
    "        try:\n",
    "            BankAccount.customers.remove(self)\n",
    "            print(f\"❌ Account {self.account_number} deleted successfully.\")\n",
    "        except ValueError:\n",
    "            print(\"❌ Account not found.\")\n",
    "        except Exception as e:\n",
    "            print(f\"❌ Error: {e}\")\n",
    "\n",
    "    def delete_all_accounts():\n",
    "        try:\n",
    "            BankAccount.customers.clear()\n",
    "            print(\"❌ All accounts deleted successfully.\")\n",
    "        except Exception as e:\n",
    "            print(f\"❌ Error: {e}\")\n",
    "\n",
    "\n"
   ]
  },
  {
   "cell_type": "code",
   "execution_count": null,
   "id": "0e541e68",
   "metadata": {},
   "outputs": [
    {
     "name": "stdout",
     "output_type": "stream",
     "text": [
      "❌ Cannot transfer to the same account.\n",
      "Current customers:\n",
      "Below are the all customers:\n",
      "Account Number: 01, Account Holder: Suraj, Balance: 6996300.0\n",
      "Account Number: 02, Account Holder: Sonali, Balance: 500000.0\n",
      "Account Number: 03, Account Holder: Shiv, Balance: 9003333.0\n",
      "Account Number: 04, Account Holder: Prashant, Balance: 312.0\n"
     ]
    }
   ],
   "source": [
    "operation = input(\"What operation would you like to perform? (CR, CD, DB, BI, TR): \").strip().lower()\n",
    "\n",
    "if operation == \"cr\":\n",
    "    account_number = input(\"Enter account number: \")\n",
    "    account_holder = input(\"Enter account holder name: \")\n",
    "    if any(customer.account_number == account_number for customer in BankAccount.customers):\n",
    "        print(\"❌ Account already exists.\")\n",
    "    else:\n",
    "        new_account = BankAccount(account_number, account_holder)\n",
    "        new_account.register()\n",
    "    \n",
    "\n",
    "elif operation == \"cd\":\n",
    "    account_number = input(\"Enter account number: \")\n",
    "    if any(customer.account_number == account_number for customer in BankAccount.customers):\n",
    "        amount = float(input(\"Enter amount to credit: \"))\n",
    "        for customer in BankAccount.customers:\n",
    "            if customer.account_number == account_number:\n",
    "                customer.credit(amount)\n",
    "                break\n",
    "    else:\n",
    "        print(\"❌ Account not found.\")\n",
    "\n",
    "elif operation == \"db\":\n",
    "    account_number = input(\"Enter account number: \")\n",
    "    if any(customer.account_number == account_number for customer in BankAccount.customers):\n",
    "        amount = float(input(\"Enter amount to debit: \"))\n",
    "        for customer in BankAccount.customers:\n",
    "            if customer.account_number == account_number:\n",
    "                customer.debit(amount)\n",
    "                break\n",
    "    else:\n",
    "        print(\"❌ Account not found.\")\n",
    "        \n",
    "elif operation == \"bi\":\n",
    "    account_number = input(\"Enter account number: \")\n",
    "    if any(customer.account_number == account_number for customer in BankAccount.customers):\n",
    "        for customer in BankAccount.customers:\n",
    "            if customer.account_number == account_number:\n",
    "                customer.balance_inquiry()\n",
    "                break\n",
    "            \n",
    "elif operation == \"tr\":\n",
    "    from_account_number = input(\"Enter account number from: \")\n",
    "    if any(customer.account_number == from_account_number for customer in BankAccount.customers):\n",
    "        to_account_number = input(\"Enter account number to: \")\n",
    "        if from_account_number == to_account_number:\n",
    "            print(\"❌ Cannot transfer to the same account.\")\n",
    "        elif any(customer.account_number == to_account_number for customer in BankAccount.customers):\n",
    "            amount = float(input(\"Enter amount to transfer: \"))\n",
    "            from_account = next((customer for customer in BankAccount.customers if customer.account_number == from_account_number), None)\n",
    "            to_account = next((customer for customer in BankAccount.customers if customer.account_number == to_account_number), None)\n",
    "            if from_account and to_account:\n",
    "                if amount <= 0:\n",
    "                    print(\"❌ Amount must be positive.\")\n",
    "                elif amount > from_account.balance:\n",
    "                    print(\"❌ Insufficient balance.\")\n",
    "                else:\n",
    "                    from_account.debit(amount)\n",
    "                    to_account.credit(amount)\n",
    "                    print(f\"✅ {amount} transferred from {from_account.account_holder} to {to_account.account_holder}.\")\n",
    "        else:\n",
    "            print(\"❌ To Account not found.\")\n",
    "    else:\n",
    "        print(\"❌ From Account not found.\")\n",
    "else:\n",
    "    print(\"❌ Invalid operation. Please choose from CR, CD, DB, or BI.\")\n",
    "\n",
    "\n",
    "print(\"Current customers:\")\n",
    "BankAccount.getallcustomer()"
   ]
  },
  {
   "cell_type": "code",
   "execution_count": 129,
   "id": "1b40fdce",
   "metadata": {},
   "outputs": [
    {
     "name": "stdout",
     "output_type": "stream",
     "text": [
      "Below are the all customers:\n",
      "Account Number: 01, Account Holder: Suraj, Balance: 6996300.0\n",
      "Account Number: 02, Account Holder: Sonali, Balance: 500000.0\n",
      "Account Number: 03, Account Holder: Shiv, Balance: 9003333.0\n",
      "Account Number: 04, Account Holder: Prashant, Balance: 312.0\n"
     ]
    }
   ],
   "source": [
    "BankAccount.getallcustomer()"
   ]
  },
  {
   "cell_type": "code",
   "execution_count": 78,
   "id": "d1726e29",
   "metadata": {},
   "outputs": [
    {
     "name": "stdout",
     "output_type": "stream",
     "text": [
      "❌ All accounts deleted successfully.\n"
     ]
    }
   ],
   "source": [
    "BankAccount.delete_all_accounts()"
   ]
  }
 ],
 "metadata": {
  "kernelspec": {
   "display_name": "Python 3",
   "language": "python",
   "name": "python3"
  },
  "language_info": {
   "codemirror_mode": {
    "name": "ipython",
    "version": 3
   },
   "file_extension": ".py",
   "mimetype": "text/x-python",
   "name": "python",
   "nbconvert_exporter": "python",
   "pygments_lexer": "ipython3",
   "version": "3.12.11"
  }
 },
 "nbformat": 4,
 "nbformat_minor": 5
}
